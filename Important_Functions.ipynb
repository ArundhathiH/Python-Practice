{
 "cells": [
  {
   "cell_type": "code",
   "execution_count": 1,
   "id": "19366444",
   "metadata": {},
   "outputs": [
    {
     "data": {
      "text/plain": [
       "45"
      ]
     },
     "execution_count": 1,
     "metadata": {},
     "output_type": "execute_result"
    }
   ],
   "source": [
    "l=[2,4,12,15,12]\n",
    "sum=0\n",
    "for i in l:\n",
    "    sum=sum+i\n",
    "sum"
   ]
  },
  {
   "cell_type": "code",
   "execution_count": 2,
   "id": "29b5bd68",
   "metadata": {},
   "outputs": [
    {
     "data": {
      "text/plain": [
       "17280"
      ]
     },
     "execution_count": 2,
     "metadata": {},
     "output_type": "execute_result"
    }
   ],
   "source": [
    "l1=[2,4,12,15,12]\n",
    "mul=1\n",
    "for i in l1:\n",
    "    mul=mul*i\n",
    "mul"
   ]
  },
  {
   "cell_type": "code",
   "execution_count": 3,
   "id": "5c3712ec",
   "metadata": {},
   "outputs": [
    {
     "name": "stdout",
     "output_type": "stream",
     "text": [
      "1 2 4 8 "
     ]
    }
   ],
   "source": [
    "n1=24\n",
    "n2=32\n",
    "l1=[]\n",
    "l2=[]\n",
    "\n",
    "for i in range(1,n1+1):\n",
    "    if n1%i==0:\n",
    "        l1.append(i)\n",
    "for i in range(1,n2+1):\n",
    "    if n2%i==0:\n",
    "        l2.append(i)\n",
    "for i in l2:\n",
    "    if i in l1:\n",
    "        print (i,end=' ')"
   ]
  },
  {
   "cell_type": "code",
   "execution_count": 4,
   "id": "4a6ba07d",
   "metadata": {},
   "outputs": [
    {
     "data": {
      "text/plain": [
       "([1, 2, 3, 4, 6, 8, 12, 24], [1, 2, 4, 8, 16, 32])"
      ]
     },
     "execution_count": 4,
     "metadata": {},
     "output_type": "execute_result"
    }
   ],
   "source": [
    "l1,l2\n"
   ]
  },
  {
   "cell_type": "code",
   "execution_count": 5,
   "id": "b5111de2",
   "metadata": {},
   "outputs": [
    {
     "data": {
      "text/plain": [
       "{1, 2, 4, 8}"
      ]
     },
     "execution_count": 5,
     "metadata": {},
     "output_type": "execute_result"
    }
   ],
   "source": [
    "n1=24\n",
    "n2=32\n",
    "l1=[]\n",
    "l2=[]\n",
    "\n",
    "for i in range(1,n1+1):\n",
    "    if n1%i==0:\n",
    "        l1.append(i)\n",
    "for i in range(1,n2+1):\n",
    "    if n2%i==0:\n",
    "        l2.append(i)\n",
    "        \n",
    "l1=set(l1)\n",
    "l2=set(l2)\n",
    "\n",
    "l1&l2"
   ]
  },
  {
   "cell_type": "code",
   "execution_count": 6,
   "id": "6d370b83",
   "metadata": {},
   "outputs": [],
   "source": [
    "l='alekhya sam ram madhu aaditya anchal deepika'"
   ]
  },
  {
   "cell_type": "code",
   "execution_count": 7,
   "id": "3431c15b",
   "metadata": {},
   "outputs": [
    {
     "data": {
      "text/plain": [
       "['alekhya', 'sam', 'ram', 'madhu', 'aaditya', 'anchal', 'deepika']"
      ]
     },
     "execution_count": 7,
     "metadata": {},
     "output_type": "execute_result"
    }
   ],
   "source": [
    "new_list=l.split()\n",
    "new_list"
   ]
  },
  {
   "cell_type": "code",
   "execution_count": 8,
   "id": "edef4a0e",
   "metadata": {},
   "outputs": [],
   "source": [
    "la=[]\n",
    "ld=[]\n",
    "lm=[]\n",
    "lr=[]\n",
    "ls=[]\n",
    "# type(dict)\n",
    "for i in new_list:\n",
    "    if i[0]=='a':\n",
    "        la.append(i)\n",
    "    elif i[0]=='d':\n",
    "        ld.append(i)\n",
    "    elif i[0]=='m':\n",
    "        lm.append(i)\n",
    "    elif i[0]=='r':\n",
    "        lr.append(i)\n",
    "    else:\n",
    "        ls.append(i)"
   ]
  },
  {
   "cell_type": "code",
   "execution_count": 9,
   "id": "e0b0c617",
   "metadata": {},
   "outputs": [
    {
     "ename": "SyntaxError",
     "evalue": "invalid syntax (3903807747.py, line 1)",
     "output_type": "error",
     "traceback": [
      "\u001b[1;36m  Input \u001b[1;32mIn [9]\u001b[1;36m\u001b[0m\n\u001b[1;33m    dict={'a':la,'d','m','r','s'}\u001b[0m\n\u001b[1;37m                    ^\u001b[0m\n\u001b[1;31mSyntaxError\u001b[0m\u001b[1;31m:\u001b[0m invalid syntax\n"
     ]
    }
   ],
   "source": [
    "dict={'a':la,'d','m','r','s'}\n",
    "dict"
   ]
  },
  {
   "cell_type": "code",
   "execution_count": null,
   "id": "64b1648a",
   "metadata": {},
   "outputs": [],
   "source": [
    "l='alekhya sam ram madhu aaditya anchal deepika'\n",
    "l=l.split()\n",
    "dict={}\n",
    "\n",
    "for i in l:\n",
    "    if i[0] in dict.keys():\n",
    "       dict[i[0]].append(i) \n",
    "    else:\n",
    "        dict[i[0]]=[i]\n",
    "dict"
   ]
  },
  {
   "cell_type": "code",
   "execution_count": null,
   "id": "e68f7a40",
   "metadata": {},
   "outputs": [],
   "source": [
    "type(dict['a'])"
   ]
  },
  {
   "cell_type": "code",
   "execution_count": null,
   "id": "1bb8588d",
   "metadata": {},
   "outputs": [],
   "source": [
    "l='alekhya sam ram madhu aaditya anchal deepika'\n",
    "l=l.split()\n",
    "my_dict={}\n",
    "\n",
    "for i in l:\n",
    "  \n",
    "    if i[0] in  my_dict.keys():\n",
    "        my_dict[i[0]].append(i)\n",
    "    else:     \n",
    "        my_dict[i[0]]=[i]"
   ]
  },
  {
   "cell_type": "code",
   "execution_count": null,
   "id": "5076c376",
   "metadata": {},
   "outputs": [],
   "source": [
    "def func(l):\n",
    "    l=l.split()\n",
    "    my_dict={}\n",
    "\n",
    "    for i in l:\n",
    "        if i[0] in  my_dict.keys():\n",
    "            my_dict[i[0]].append(i)\n",
    "        else:     \n",
    "            my_dict[i[0]]=[i]\n",
    "    return my_dict"
   ]
  },
  {
   "cell_type": "code",
   "execution_count": null,
   "id": "cfd9a272",
   "metadata": {},
   "outputs": [],
   "source": [
    "func('alekhya sam ram madhu aaditya anchal deepika')"
   ]
  },
  {
   "cell_type": "code",
   "execution_count": null,
   "id": "97e202e6",
   "metadata": {},
   "outputs": [],
   "source": [
    "def factors(num):\n",
    "    l=[]\n",
    "    num_h=int(num/2)\n",
    "    for i in range(1,num_h+1):\n",
    "        if num%i==0:\n",
    "            l.append(i)\n",
    "    l.append(num)\n",
    "    return l"
   ]
  },
  {
   "cell_type": "code",
   "execution_count": null,
   "id": "f9d3d17f",
   "metadata": {},
   "outputs": [],
   "source": [
    "factors(12)"
   ]
  },
  {
   "cell_type": "code",
   "execution_count": null,
   "id": "0d060adb",
   "metadata": {},
   "outputs": [],
   "source": [
    "def prime_factors(num):\n",
    "\n",
    "    l=[]    \n",
    "    for i in range(1,num+1):\n",
    "        if num%i==0:\n",
    "            l.append(i)\n",
    "\n",
    "    if len(l)==2:\n",
    "        print(num,'is a prime number')\n",
    "    else:\n",
    "        print('Factors of',num,'are',l)"
   ]
  },
  {
   "cell_type": "code",
   "execution_count": null,
   "id": "de7f4780",
   "metadata": {},
   "outputs": [],
   "source": [
    "prime_factors(19)"
   ]
  },
  {
   "cell_type": "code",
   "execution_count": null,
   "id": "abd8a1b6",
   "metadata": {},
   "outputs": [],
   "source": [
    "prime_factors(32)"
   ]
  },
  {
   "cell_type": "markdown",
   "id": "0601834a",
   "metadata": {},
   "source": [
    "# print & return"
   ]
  },
  {
   "cell_type": "code",
   "execution_count": null,
   "id": "486ec253",
   "metadata": {},
   "outputs": [],
   "source": []
  },
  {
   "cell_type": "markdown",
   "id": "f6902be0",
   "metadata": {},
   "source": [
    "# map & filter"
   ]
  },
  {
   "cell_type": "code",
   "execution_count": null,
   "id": "aca74430",
   "metadata": {},
   "outputs": [],
   "source": [
    "def even_odd(x):\n",
    "    if x%2==0:\n",
    "        return \"even\"\n",
    "    else:\n",
    "        return \"odd\""
   ]
  },
  {
   "cell_type": "code",
   "execution_count": null,
   "id": "40d00d6f",
   "metadata": {},
   "outputs": [],
   "source": [
    "even_odd(2)"
   ]
  },
  {
   "cell_type": "code",
   "execution_count": null,
   "id": "8be71d3a",
   "metadata": {},
   "outputs": [],
   "source": [
    "output = map(even_odd,[1,2,3,4,5])"
   ]
  },
  {
   "cell_type": "code",
   "execution_count": null,
   "id": "9078621f",
   "metadata": {},
   "outputs": [],
   "source": [
    "list(output)"
   ]
  },
  {
   "cell_type": "code",
   "execution_count": null,
   "id": "ed2724a7",
   "metadata": {},
   "outputs": [],
   "source": [
    "def prime(num):\n",
    "    l2=[i for i in range(1,num+1) if num%i==0]\n",
    "    \n",
    "    if len(l2)==2:\n",
    "        return \"prime\"\n",
    "    else:\n",
    "        return \"not prime\""
   ]
  },
  {
   "cell_type": "code",
   "execution_count": null,
   "id": "dca3f0fb",
   "metadata": {},
   "outputs": [],
   "source": [
    "output = map(prime,[13,20,37,43,57])\n",
    "list(output)"
   ]
  },
  {
   "cell_type": "code",
   "execution_count": null,
   "id": "6c3b20ed",
   "metadata": {},
   "outputs": [],
   "source": [
    "lst=[i*i for i in range(1,11)]\n",
    "lst"
   ]
  },
  {
   "cell_type": "code",
   "execution_count": null,
   "id": "665813ea",
   "metadata": {},
   "outputs": [],
   "source": [
    "def prime(num):\n",
    "    l2=[i for i in range(1,num+1) if num%i==0]\n",
    "    \n",
    "    if len(l2)==2:\n",
    "        return True      #Code should be changed a little bit\n",
    "    else:\n",
    "        return False"
   ]
  },
  {
   "cell_type": "code",
   "execution_count": null,
   "id": "edfdea36",
   "metadata": {},
   "outputs": [],
   "source": [
    "output=filter(prime,[13,20,37,43,57])\n",
    "list(output)"
   ]
  },
  {
   "cell_type": "code",
   "execution_count": null,
   "id": "7ad77416",
   "metadata": {},
   "outputs": [],
   "source": [
    "output=filter(prime,range(1,50))\n",
    "list(output)"
   ]
  },
  {
   "cell_type": "code",
   "execution_count": null,
   "id": "3c9eef2d",
   "metadata": {},
   "outputs": [],
   "source": [
    "def sqr(x):                    #[1,2,3,4,5] -- len=5\n",
    "    list_sqr=[]\n",
    "    for i in range(0,len(x)//2):\n",
    "        list_sqr.append(x[i]**2)\n",
    "    for i in list_sqr:\n",
    "        if i in x:\n",
    "            return True"
   ]
  },
  {
   "cell_type": "code",
   "execution_count": null,
   "id": "2c654856",
   "metadata": {},
   "outputs": [],
   "source": [
    "sqr([1,2,3,4,5])"
   ]
  },
  {
   "cell_type": "code",
   "execution_count": null,
   "id": "693f73b1",
   "metadata": {},
   "outputs": [],
   "source": [
    "if_sqr=filter(sqr,range(1,11))\n",
    "list(if_sqr)"
   ]
  },
  {
   "cell_type": "markdown",
   "id": "3e8c84cf",
   "metadata": {},
   "source": [
    "# try exception"
   ]
  },
  {
   "cell_type": "code",
   "execution_count": null,
   "id": "b71d3061",
   "metadata": {},
   "outputs": [],
   "source": [
    "def fun(x,y):\n",
    "    return x/y"
   ]
  },
  {
   "cell_type": "code",
   "execution_count": null,
   "id": "1e20a342",
   "metadata": {},
   "outputs": [],
   "source": [
    "fun(10,5)"
   ]
  },
  {
   "cell_type": "code",
   "execution_count": null,
   "id": "a9e602be",
   "metadata": {},
   "outputs": [],
   "source": [
    "fun(20,0)"
   ]
  },
  {
   "cell_type": "code",
   "execution_count": null,
   "id": "501a3ae1",
   "metadata": {},
   "outputs": [],
   "source": [
    "v1=10\n",
    "v2=20\n",
    "v3=20/0\n",
    "v4=12"
   ]
  },
  {
   "cell_type": "code",
   "execution_count": null,
   "id": "26bb35b3",
   "metadata": {},
   "outputs": [],
   "source": [
    "v1,v2"
   ]
  },
  {
   "cell_type": "code",
   "execution_count": null,
   "id": "447da83d",
   "metadata": {},
   "outputs": [],
   "source": [
    "v3"
   ]
  },
  {
   "cell_type": "code",
   "execution_count": null,
   "id": "23aae517",
   "metadata": {},
   "outputs": [],
   "source": [
    "v4   #further lines execution is stopped in python\n",
    "     #This is solved using try and exception"
   ]
  },
  {
   "cell_type": "code",
   "execution_count": null,
   "id": "0c0ddc22",
   "metadata": {},
   "outputs": [],
   "source": [
    "v1=10\n",
    "v2=20\n",
    "try:\n",
    "    v3=20/0\n",
    "except:\n",
    "    v3=10   #This will work when try is error\n",
    "v4=12"
   ]
  },
  {
   "cell_type": "code",
   "execution_count": null,
   "id": "1bb19e62",
   "metadata": {},
   "outputs": [],
   "source": [
    "v3"
   ]
  },
  {
   "cell_type": "code",
   "execution_count": null,
   "id": "4983ab7f",
   "metadata": {},
   "outputs": [],
   "source": [
    "v4"
   ]
  },
  {
   "cell_type": "code",
   "execution_count": null,
   "id": "66182aaf",
   "metadata": {},
   "outputs": [],
   "source": [
    "v1=10\n",
    "v2=20\n",
    "try:\n",
    "    v3=20/8  #This will work when try is error\n",
    "except:\n",
    "    v3=10   \n",
    "v4=12"
   ]
  },
  {
   "cell_type": "code",
   "execution_count": null,
   "id": "22af7919",
   "metadata": {},
   "outputs": [],
   "source": [
    "v3"
   ]
  },
  {
   "cell_type": "code",
   "execution_count": null,
   "id": "0cdb0fe9",
   "metadata": {},
   "outputs": [],
   "source": [
    "def fun(x,y):\n",
    "    try:\n",
    "        return x/y\n",
    "    except:\n",
    "        return \"Zero error. Please give non-zero inputs\""
   ]
  },
  {
   "cell_type": "code",
   "execution_count": null,
   "id": "e4650869",
   "metadata": {},
   "outputs": [],
   "source": [
    "fun(10,0)"
   ]
  },
  {
   "cell_type": "markdown",
   "id": "5cbdad40",
   "metadata": {},
   "source": [
    "# Local and global variable"
   ]
  },
  {
   "cell_type": "code",
   "execution_count": null,
   "id": "9eb4da57",
   "metadata": {},
   "outputs": [],
   "source": [
    "x=20  #local variable\n",
    "\n",
    "def fun(x):\n",
    "    y=12\n",
    "    return y"
   ]
  },
  {
   "cell_type": "code",
   "execution_count": null,
   "id": "81f104e8",
   "metadata": {},
   "outputs": [],
   "source": [
    "y   #It says y is not defined as its a local variable"
   ]
  },
  {
   "cell_type": "code",
   "execution_count": null,
   "id": "480d29ac",
   "metadata": {},
   "outputs": [],
   "source": [
    "fun(10)"
   ]
  },
  {
   "cell_type": "code",
   "execution_count": null,
   "id": "288f0798",
   "metadata": {},
   "outputs": [],
   "source": [
    "x   #Its global variable"
   ]
  },
  {
   "cell_type": "code",
   "execution_count": null,
   "id": "136ad884",
   "metadata": {},
   "outputs": [],
   "source": [
    "var1=10\n",
    "def fun(x):\n",
    "    var1=20\n",
    "    x=x+var1\n",
    "    return x,var1"
   ]
  },
  {
   "cell_type": "code",
   "execution_count": null,
   "id": "eb7070ce",
   "metadata": {},
   "outputs": [],
   "source": [
    "fun(10)"
   ]
  },
  {
   "cell_type": "code",
   "execution_count": null,
   "id": "ddc7c66d",
   "metadata": {},
   "outputs": [],
   "source": [
    "var1  #var1=20 is local so global value will be taken by var1\n",
    "      #var1 called inside fun() will give me 20 as its local variable available inside fun()"
   ]
  },
  {
   "cell_type": "code",
   "execution_count": null,
   "id": "758ac2fd",
   "metadata": {},
   "outputs": [],
   "source": [
    "# To make local var global"
   ]
  },
  {
   "cell_type": "code",
   "execution_count": null,
   "id": "ad9f34ef",
   "metadata": {},
   "outputs": [],
   "source": [
    "var1=10\n",
    "def fun(x):\n",
    "#     var1=20      -- SyntaxError: name 'var1' is assigned to before global declaration\n",
    "    \n",
    "    global var1\n",
    "    var1=20\n",
    "    x=x+var1\n",
    "    \n",
    "    return x"
   ]
  },
  {
   "cell_type": "code",
   "execution_count": null,
   "id": "c6539523",
   "metadata": {},
   "outputs": [],
   "source": [
    "fun(10)"
   ]
  },
  {
   "cell_type": "code",
   "execution_count": null,
   "id": "4467c3ae",
   "metadata": {},
   "outputs": [],
   "source": [
    "var1"
   ]
  },
  {
   "cell_type": "code",
   "execution_count": null,
   "id": "377da0bb",
   "metadata": {},
   "outputs": [],
   "source": [
    "var1=10\n",
    "def fun(x):\n",
    "#     var1=20      -- SyntaxError: name 'var1' is assigned to before global declaration\n",
    "    \n",
    "    global var1\n",
    "    var1=30\n",
    "    del var1\n",
    "    \n",
    "    var1=20\n",
    "    x=x+var1\n",
    "    \n",
    "    return x"
   ]
  },
  {
   "cell_type": "code",
   "execution_count": null,
   "id": "acacd892",
   "metadata": {},
   "outputs": [],
   "source": [
    "fun(20)"
   ]
  },
  {
   "cell_type": "code",
   "execution_count": null,
   "id": "39cada3e",
   "metadata": {},
   "outputs": [],
   "source": [
    "var1  #dlt deletes var1=30 and 20 remains"
   ]
  },
  {
   "cell_type": "markdown",
   "id": "ed7747cc",
   "metadata": {},
   "source": [
    "# Recursion functions"
   ]
  },
  {
   "cell_type": "code",
   "execution_count": null,
   "id": "e32ec1d4",
   "metadata": {},
   "outputs": [],
   "source": [
    "def fun(x):\n",
    "    \n",
    "    if x==0:\n",
    "        return 10\n",
    "    else:\n",
    "        return fun(x-1)"
   ]
  },
  {
   "cell_type": "code",
   "execution_count": null,
   "id": "8479515d",
   "metadata": {},
   "outputs": [],
   "source": [
    "func(2) #fun(2)-->fun(1)-->fun(0)"
   ]
  },
  {
   "cell_type": "code",
   "execution_count": null,
   "id": "5fac1447",
   "metadata": {},
   "outputs": [],
   "source": [
    "def fun(x):\n",
    "    \n",
    "    if x==0:\n",
    "        return 10\n",
    "    else:\n",
    "        return fun(x-1)*2"
   ]
  },
  {
   "cell_type": "code",
   "execution_count": null,
   "id": "12c790ed",
   "metadata": {},
   "outputs": [],
   "source": [
    "fun(2)\n",
    "#fun(2)-->fun(1)*2-->(fun(0)*2)*2 == 10x4 = 40"
   ]
  },
  {
   "cell_type": "code",
   "execution_count": null,
   "id": "a8ecfdb5",
   "metadata": {},
   "outputs": [],
   "source": [
    "fun(3) # 10x2x2x2=80"
   ]
  },
  {
   "cell_type": "code",
   "execution_count": null,
   "id": "8437a21c",
   "metadata": {},
   "outputs": [],
   "source": [
    "fun(4)"
   ]
  },
  {
   "cell_type": "raw",
   "id": "6e336562",
   "metadata": {},
   "source": [
    "fun(4)-->fun(3)*4-->fun(2)*3*4-->fun(1)*2*3*4"
   ]
  },
  {
   "cell_type": "code",
   "execution_count": null,
   "id": "1b390269",
   "metadata": {},
   "outputs": [],
   "source": [
    "def fact(x):\n",
    "    if x==1:\n",
    "        return 1\n",
    "    else:\n",
    "        return fact(x-1)*x"
   ]
  },
  {
   "cell_type": "code",
   "execution_count": null,
   "id": "bde78e95",
   "metadata": {},
   "outputs": [],
   "source": [
    "fact(5)"
   ]
  },
  {
   "cell_type": "raw",
   "id": "97f07023",
   "metadata": {},
   "source": [
    "Fibonacci series"
   ]
  },
  {
   "cell_type": "code",
   "execution_count": null,
   "id": "5eed326a",
   "metadata": {},
   "outputs": [],
   "source": [
    "1,1,2,3,5,8,13,......"
   ]
  },
  {
   "cell_type": "code",
   "execution_count": 38,
   "id": "b113dba2",
   "metadata": {},
   "outputs": [],
   "source": [
    "\n",
    "def fib(num):\n",
    "    f=0\n",
    "    s=1\n",
    "    print(s)\n",
    "    for i in range(1,num):\n",
    "        t=f+s\n",
    "        f=s\n",
    "        s=t\n",
    "        print(t)"
   ]
  },
  {
   "cell_type": "code",
   "execution_count": 39,
   "id": "3058df28",
   "metadata": {},
   "outputs": [
    {
     "name": "stdout",
     "output_type": "stream",
     "text": [
      "1\n",
      "1\n",
      "2\n",
      "3\n",
      "5\n"
     ]
    }
   ],
   "source": [
    "fib(5)"
   ]
  },
  {
   "cell_type": "code",
   "execution_count": 32,
   "id": "c1221402",
   "metadata": {},
   "outputs": [],
   "source": [
    "def fibonacci(x):\n",
    "    if x==1 or x==2:\n",
    "        return 1\n",
    "    else:\n",
    "        return fibonacci(x-1)+fibonacci(x-2)"
   ]
  },
  {
   "cell_type": "code",
   "execution_count": 33,
   "id": "93c5cdc2",
   "metadata": {},
   "outputs": [
    {
     "data": {
      "text/plain": [
       "5"
      ]
     },
     "execution_count": 33,
     "metadata": {},
     "output_type": "execute_result"
    }
   ],
   "source": [
    "fibonacci(5)"
   ]
  },
  {
   "cell_type": "code",
   "execution_count": 37,
   "id": "0f314098",
   "metadata": {},
   "outputs": [
    {
     "data": {
      "text/plain": [
       "[1, 1, 2, 3, 5, 8, 13, 21, 34, 55]"
      ]
     },
     "execution_count": 37,
     "metadata": {},
     "output_type": "execute_result"
    }
   ],
   "source": [
    "series=map(fibonacci,range(1,11))\n",
    "list(series)"
   ]
  },
  {
   "cell_type": "markdown",
   "id": "5cac9d74",
   "metadata": {},
   "source": [
    "# Lambda function"
   ]
  },
  {
   "cell_type": "code",
   "execution_count": null,
   "id": "039b69a5",
   "metadata": {},
   "outputs": [],
   "source": [
    "list comp replaces for loop\n",
    "lambda replaces def func"
   ]
  },
  {
   "cell_type": "code",
   "execution_count": 40,
   "id": "ef547825",
   "metadata": {},
   "outputs": [],
   "source": [
    "def mul(x,y):\n",
    "    return x*y"
   ]
  },
  {
   "cell_type": "code",
   "execution_count": 41,
   "id": "e5b830c6",
   "metadata": {},
   "outputs": [
    {
     "data": {
      "text/plain": [
       "6"
      ]
     },
     "execution_count": 41,
     "metadata": {},
     "output_type": "execute_result"
    }
   ],
   "source": [
    "mul(2,3)"
   ]
  },
  {
   "cell_type": "code",
   "execution_count": 43,
   "id": "da93073d",
   "metadata": {},
   "outputs": [],
   "source": [
    "multiply=lambda x,y:x*y"
   ]
  },
  {
   "cell_type": "code",
   "execution_count": 44,
   "id": "60ddad66",
   "metadata": {},
   "outputs": [
    {
     "data": {
      "text/plain": [
       "6"
      ]
     },
     "execution_count": 44,
     "metadata": {},
     "output_type": "execute_result"
    }
   ],
   "source": [
    "multiply(2,3)"
   ]
  },
  {
   "cell_type": "code",
   "execution_count": 45,
   "id": "33704360",
   "metadata": {},
   "outputs": [],
   "source": [
    "even_odd=lambda x:\"even\" if x%2==0 else \"odd\""
   ]
  },
  {
   "cell_type": "code",
   "execution_count": 46,
   "id": "6f5dfbd7",
   "metadata": {},
   "outputs": [
    {
     "data": {
      "text/plain": [
       "'odd'"
      ]
     },
     "execution_count": 46,
     "metadata": {},
     "output_type": "execute_result"
    }
   ],
   "source": [
    "even_odd(5)"
   ]
  },
  {
   "cell_type": "code",
   "execution_count": 54,
   "id": "cfc0da76",
   "metadata": {},
   "outputs": [],
   "source": [
    "factors=lambda x:[i for i in range(1,x+1) if x%i==0]"
   ]
  },
  {
   "cell_type": "code",
   "execution_count": 55,
   "id": "b2e2344c",
   "metadata": {},
   "outputs": [
    {
     "data": {
      "text/plain": [
       "[1, 2, 3, 6]"
      ]
     },
     "execution_count": 55,
     "metadata": {},
     "output_type": "execute_result"
    }
   ],
   "source": [
    "factors(6)"
   ]
  },
  {
   "cell_type": "code",
   "execution_count": 57,
   "id": "7ea06b05",
   "metadata": {},
   "outputs": [
    {
     "name": "stdout",
     "output_type": "stream",
     "text": [
      "CPU times: total: 0 ns\n",
      "Wall time: 0 ns\n"
     ]
    },
    {
     "data": {
      "text/plain": [
       "[1, 2, 3, 4, 6, 8, 12, 24]"
      ]
     },
     "execution_count": 57,
     "metadata": {},
     "output_type": "execute_result"
    }
   ],
   "source": [
    "%%time\n",
    "factors(24)"
   ]
  },
  {
   "cell_type": "markdown",
   "id": "241733c3",
   "metadata": {},
   "source": [
    "#### Using lambda\n",
    "* GCD\n",
    "* prime\n",
    "* fibonacci"
   ]
  },
  {
   "cell_type": "code",
   "execution_count": 58,
   "id": "94eb8f5a",
   "metadata": {},
   "outputs": [
    {
     "data": {
      "text/plain": [
       "([1, 2, 5, 10], [1, 2, 4, 5, 10, 20])"
      ]
     },
     "execution_count": 58,
     "metadata": {},
     "output_type": "execute_result"
    }
   ],
   "source": [
    "a=10\n",
    "b=20\n",
    "factors(10),factors(20)"
   ]
  },
  {
   "cell_type": "code",
   "execution_count": 111,
   "id": "8114ab3c",
   "metadata": {},
   "outputs": [
    {
     "name": "stdout",
     "output_type": "stream",
     "text": [
      "GCD is 5\n"
     ]
    }
   ],
   "source": [
    "# factor=lambda x:[i for i in range(1,x+1) if x%i==0]\n",
    "# gcd=map(factor,[10,20])\n",
    "# list(gcd)\n",
    "\n",
    "a=25\n",
    "b=35\n",
    "\n",
    "gcd=map(lambda x:[i for i in range(1,x) if x%i==0],[a,b])\n",
    "list_1=list(gcd)\n",
    "list_2=[]\n",
    "for i in list_1:\n",
    "    list_2.append(max(i))\n",
    "print(f'GCD is {min(list_2)}')"
   ]
  },
  {
   "cell_type": "code",
   "execution_count": 103,
   "id": "950f8443",
   "metadata": {},
   "outputs": [],
   "source": [
    "def get_gcd(a,b):\n",
    "    gcd=map(lambda x:[i for i in range(1,x+1) if x%i==0],[a,b])\n",
    "    list_1=list(gcd)\n",
    "    list_2=[]\n",
    "    for i in list_1:\n",
    "        list_2.append(max(i))\n",
    "    print(f'GCD of {a} and {b} : {min(list_2)}')"
   ]
  },
  {
   "cell_type": "code",
   "execution_count": 104,
   "id": "61a533b2",
   "metadata": {},
   "outputs": [
    {
     "name": "stdout",
     "output_type": "stream",
     "text": [
      "GCD of 10 and 15 : 10\n"
     ]
    }
   ],
   "source": [
    "get_gcd(10,15)"
   ]
  },
  {
   "cell_type": "code",
   "execution_count": 87,
   "id": "b7984f1e",
   "metadata": {},
   "outputs": [
    {
     "data": {
      "text/plain": [
       "[]"
      ]
     },
     "execution_count": 87,
     "metadata": {},
     "output_type": "execute_result"
    }
   ],
   "source": [
    "list_max = [max(i) for i in gcd]\n",
    "list_max"
   ]
  },
  {
   "cell_type": "code",
   "execution_count": 88,
   "id": "019da2da",
   "metadata": {},
   "outputs": [
    {
     "data": {
      "text/plain": [
       "['a', 'r', 'u', 'n', 'd', 'h', 'a', 't', 'h', 'i']"
      ]
     },
     "execution_count": 88,
     "metadata": {},
     "output_type": "execute_result"
    }
   ],
   "source": [
    "l1=[i for i in \"arundhathi\"]\n",
    "l1"
   ]
  },
  {
   "cell_type": "code",
   "execution_count": 99,
   "id": "76697ce4",
   "metadata": {},
   "outputs": [],
   "source": [
    "def get_gcd(a,b):\n",
    "    gcd=map(lambda x:[i for i in range(1,x+1) if x%i==0],[a,b])\n",
    "    list_1=[max(i) for i in gcd]\n",
    "    print(f'list_1 : {list_1}')\n",
    "    print(f'GCD of {a} and {b} : {min(list_1)}')"
   ]
  },
  {
   "cell_type": "code",
   "execution_count": 101,
   "id": "8fe9d132",
   "metadata": {
    "scrolled": true
   },
   "outputs": [
    {
     "name": "stdout",
     "output_type": "stream",
     "text": [
      "List_1 : [10, 15]\n",
      "GCD of 10 and 15 : 10\n"
     ]
    }
   ],
   "source": [
    "get_gcd(10,15)"
   ]
  },
  {
   "cell_type": "code",
   "execution_count": null,
   "id": "212ac7db",
   "metadata": {},
   "outputs": [],
   "source": []
  }
 ],
 "metadata": {
  "kernelspec": {
   "display_name": "Python 3 (ipykernel)",
   "language": "python",
   "name": "python3"
  },
  "language_info": {
   "codemirror_mode": {
    "name": "ipython",
    "version": 3
   },
   "file_extension": ".py",
   "mimetype": "text/x-python",
   "name": "python",
   "nbconvert_exporter": "python",
   "pygments_lexer": "ipython3",
   "version": "3.9.12"
  }
 },
 "nbformat": 4,
 "nbformat_minor": 5
}
