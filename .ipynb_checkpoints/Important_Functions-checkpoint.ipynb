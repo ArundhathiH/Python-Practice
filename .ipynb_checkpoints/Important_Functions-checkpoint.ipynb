{
 "cells": [
  {
   "cell_type": "code",
   "execution_count": 1,
   "id": "19366444",
   "metadata": {},
   "outputs": [
    {
     "data": {
      "text/plain": [
       "45"
      ]
     },
     "execution_count": 1,
     "metadata": {},
     "output_type": "execute_result"
    }
   ],
   "source": [
    "l=[2,4,12,15,12]\n",
    "sum=0\n",
    "for i in l:\n",
    "    sum=sum+i\n",
    "sum"
   ]
  },
  {
   "cell_type": "code",
   "execution_count": 2,
   "id": "29b5bd68",
   "metadata": {},
   "outputs": [
    {
     "data": {
      "text/plain": [
       "17280"
      ]
     },
     "execution_count": 2,
     "metadata": {},
     "output_type": "execute_result"
    }
   ],
   "source": [
    "l1=[2,4,12,15,12]\n",
    "mul=1\n",
    "for i in l1:\n",
    "    mul=mul*i\n",
    "mul"
   ]
  },
  {
   "cell_type": "code",
   "execution_count": 3,
   "id": "5c3712ec",
   "metadata": {},
   "outputs": [
    {
     "name": "stdout",
     "output_type": "stream",
     "text": [
      "1 2 4 8 "
     ]
    }
   ],
   "source": [
    "n1=24\n",
    "n2=32\n",
    "l1=[]\n",
    "l2=[]\n",
    "\n",
    "for i in range(1,n1+1):\n",
    "    if n1%i==0:\n",
    "        l1.append(i)\n",
    "for i in range(1,n2+1):\n",
    "    if n2%i==0:\n",
    "        l2.append(i)\n",
    "for i in l2:\n",
    "    if i in l1:\n",
    "        print (i,end=' ')"
   ]
  },
  {
   "cell_type": "code",
   "execution_count": 4,
   "id": "4a6ba07d",
   "metadata": {},
   "outputs": [
    {
     "data": {
      "text/plain": [
       "([1, 2, 3, 4, 6, 8, 12, 24], [1, 2, 4, 8, 16, 32])"
      ]
     },
     "execution_count": 4,
     "metadata": {},
     "output_type": "execute_result"
    }
   ],
   "source": [
    "l1,l2\n"
   ]
  },
  {
   "cell_type": "code",
   "execution_count": 5,
   "id": "b5111de2",
   "metadata": {},
   "outputs": [
    {
     "data": {
      "text/plain": [
       "{1, 2, 4, 8}"
      ]
     },
     "execution_count": 5,
     "metadata": {},
     "output_type": "execute_result"
    }
   ],
   "source": [
    "n1=24\n",
    "n2=32\n",
    "l1=[]\n",
    "l2=[]\n",
    "\n",
    "for i in range(1,n1+1):\n",
    "    if n1%i==0:\n",
    "        l1.append(i)\n",
    "for i in range(1,n2+1):\n",
    "    if n2%i==0:\n",
    "        l2.append(i)\n",
    "        \n",
    "l1=set(l1)\n",
    "l2=set(l2)\n",
    "\n",
    "l1&l2"
   ]
  },
  {
   "cell_type": "code",
   "execution_count": 6,
   "id": "6d370b83",
   "metadata": {},
   "outputs": [],
   "source": [
    "l='alekhya sam ram madhu aaditya anchal deepika'"
   ]
  },
  {
   "cell_type": "code",
   "execution_count": 7,
   "id": "3431c15b",
   "metadata": {},
   "outputs": [
    {
     "data": {
      "text/plain": [
       "['alekhya', 'sam', 'ram', 'madhu', 'aaditya', 'anchal', 'deepika']"
      ]
     },
     "execution_count": 7,
     "metadata": {},
     "output_type": "execute_result"
    }
   ],
   "source": [
    "new_list=l.split()\n",
    "new_list"
   ]
  },
  {
   "cell_type": "code",
   "execution_count": 8,
   "id": "edef4a0e",
   "metadata": {},
   "outputs": [],
   "source": [
    "la=[]\n",
    "ld=[]\n",
    "lm=[]\n",
    "lr=[]\n",
    "ls=[]\n",
    "# type(dict)\n",
    "for i in new_list:\n",
    "    if i[0]=='a':\n",
    "        la.append(i)\n",
    "    elif i[0]=='d':\n",
    "        ld.append(i)\n",
    "    elif i[0]=='m':\n",
    "        lm.append(i)\n",
    "    elif i[0]=='r':\n",
    "        lr.append(i)\n",
    "    else:\n",
    "        ls.append(i)"
   ]
  },
  {
   "cell_type": "code",
   "execution_count": 9,
   "id": "e0b0c617",
   "metadata": {},
   "outputs": [
    {
     "ename": "SyntaxError",
     "evalue": "invalid syntax (3903807747.py, line 1)",
     "output_type": "error",
     "traceback": [
      "\u001b[1;36m  Input \u001b[1;32mIn [9]\u001b[1;36m\u001b[0m\n\u001b[1;33m    dict={'a':la,'d','m','r','s'}\u001b[0m\n\u001b[1;37m                    ^\u001b[0m\n\u001b[1;31mSyntaxError\u001b[0m\u001b[1;31m:\u001b[0m invalid syntax\n"
     ]
    }
   ],
   "source": [
    "dict={'a':la,'d','m','r','s'}\n",
    "dict"
   ]
  },
  {
   "cell_type": "code",
   "execution_count": null,
   "id": "64b1648a",
   "metadata": {},
   "outputs": [],
   "source": [
    "l='alekhya sam ram madhu aaditya anchal deepika'\n",
    "l=l.split()\n",
    "dict={}\n",
    "\n",
    "for i in l:\n",
    "    if i[0] in dict.keys():\n",
    "       dict[i[0]].append(i) \n",
    "    else:\n",
    "        dict[i[0]]=[i]\n",
    "dict"
   ]
  },
  {
   "cell_type": "code",
   "execution_count": null,
   "id": "e68f7a40",
   "metadata": {},
   "outputs": [],
   "source": [
    "type(dict['a'])"
   ]
  },
  {
   "cell_type": "code",
   "execution_count": null,
   "id": "1bb8588d",
   "metadata": {},
   "outputs": [],
   "source": [
    "l='alekhya sam ram madhu aaditya anchal deepika'\n",
    "l=l.split()\n",
    "my_dict={}\n",
    "\n",
    "for i in l:\n",
    "  \n",
    "    if i[0] in  my_dict.keys():\n",
    "        my_dict[i[0]].append(i)\n",
    "    else:     \n",
    "        my_dict[i[0]]=[i]"
   ]
  },
  {
   "cell_type": "code",
   "execution_count": null,
   "id": "5076c376",
   "metadata": {},
   "outputs": [],
   "source": [
    "def func(l):\n",
    "    l=l.split()\n",
    "    my_dict={}\n",
    "\n",
    "    for i in l:\n",
    "        if i[0] in  my_dict.keys():\n",
    "            my_dict[i[0]].append(i)\n",
    "        else:     \n",
    "            my_dict[i[0]]=[i]\n",
    "    return my_dict"
   ]
  },
  {
   "cell_type": "code",
   "execution_count": null,
   "id": "cfd9a272",
   "metadata": {},
   "outputs": [],
   "source": [
    "func('alekhya sam ram madhu aaditya anchal deepika')"
   ]
  },
  {
   "cell_type": "code",
   "execution_count": null,
   "id": "97e202e6",
   "metadata": {},
   "outputs": [],
   "source": [
    "def factors(num):\n",
    "    l=[]\n",
    "    num_h=int(num/2)\n",
    "    for i in range(1,num_h+1):\n",
    "        if num%i==0:\n",
    "            l.append(i)\n",
    "    l.append(num)\n",
    "    return l"
   ]
  },
  {
   "cell_type": "code",
   "execution_count": null,
   "id": "f9d3d17f",
   "metadata": {},
   "outputs": [],
   "source": [
    "factors(12)"
   ]
  },
  {
   "cell_type": "code",
   "execution_count": null,
   "id": "0d060adb",
   "metadata": {},
   "outputs": [],
   "source": [
    "def prime_factors(num):\n",
    "\n",
    "    l=[]    \n",
    "    for i in range(1,num+1):\n",
    "        if num%i==0:\n",
    "            l.append(i)\n",
    "\n",
    "    if len(l)==2:\n",
    "        print(num,'is a prime number')\n",
    "    else:\n",
    "        print('Factors of',num,'are',l)"
   ]
  },
  {
   "cell_type": "code",
   "execution_count": null,
   "id": "de7f4780",
   "metadata": {},
   "outputs": [],
   "source": [
    "prime_factors(19)"
   ]
  },
  {
   "cell_type": "code",
   "execution_count": null,
   "id": "abd8a1b6",
   "metadata": {},
   "outputs": [],
   "source": [
    "prime_factors(32)"
   ]
  },
  {
   "cell_type": "markdown",
   "id": "766030c3",
   "metadata": {},
   "source": [
    "# print & return"
   ]
  },
  {
   "cell_type": "code",
   "execution_count": null,
   "id": "17a60abd",
   "metadata": {},
   "outputs": [],
   "source": []
  },
  {
   "cell_type": "markdown",
   "id": "bc211fb0",
   "metadata": {},
   "source": [
    "# map & filter"
   ]
  },
  {
   "cell_type": "code",
   "execution_count": null,
   "id": "3b4e7e78",
   "metadata": {},
   "outputs": [],
   "source": [
    "def even_odd(x):\n",
    "    if x%2==0:\n",
    "        return \"even\"\n",
    "    else:\n",
    "        return \"odd\""
   ]
  },
  {
   "cell_type": "code",
   "execution_count": null,
   "id": "64deb17b",
   "metadata": {},
   "outputs": [],
   "source": [
    "even_odd(2)"
   ]
  },
  {
   "cell_type": "code",
   "execution_count": null,
   "id": "7568e02b",
   "metadata": {},
   "outputs": [],
   "source": [
    "output = map(even_odd,[1,2,3,4,5])"
   ]
  },
  {
   "cell_type": "code",
   "execution_count": null,
   "id": "cdf224cc",
   "metadata": {},
   "outputs": [],
   "source": [
    "list(output)"
   ]
  },
  {
   "cell_type": "code",
   "execution_count": null,
   "id": "45c382af",
   "metadata": {},
   "outputs": [],
   "source": [
    "def prime(num):\n",
    "    l2=[i for i in range(1,num+1) if num%i==0]\n",
    "    \n",
    "    if len(l2)==2:\n",
    "        return \"prime\"\n",
    "    else:\n",
    "        return \"not prime\""
   ]
  },
  {
   "cell_type": "code",
   "execution_count": null,
   "id": "d3760d02",
   "metadata": {},
   "outputs": [],
   "source": [
    "output = map(prime,[13,20,37,43,57])\n",
    "list(output)"
   ]
  },
  {
   "cell_type": "code",
   "execution_count": null,
   "id": "a44b0d06",
   "metadata": {},
   "outputs": [],
   "source": [
    "lst=[i*i for i in range(1,11)]\n",
    "lst"
   ]
  },
  {
   "cell_type": "code",
   "execution_count": null,
   "id": "13fc333c",
   "metadata": {},
   "outputs": [],
   "source": [
    "def prime(num):\n",
    "    l2=[i for i in range(1,num+1) if num%i==0]\n",
    "    \n",
    "    if len(l2)==2:\n",
    "        return True      #Code should be changed a little bit\n",
    "    else:\n",
    "        return False"
   ]
  },
  {
   "cell_type": "code",
   "execution_count": null,
   "id": "287ccb81",
   "metadata": {},
   "outputs": [],
   "source": [
    "output=filter(prime,[13,20,37,43,57])\n",
    "list(output)"
   ]
  },
  {
   "cell_type": "code",
   "execution_count": null,
   "id": "20b004b3",
   "metadata": {},
   "outputs": [],
   "source": [
    "output=filter(prime,range(1,50))\n",
    "list(output)"
   ]
  },
  {
   "cell_type": "code",
   "execution_count": null,
   "id": "a90e012e",
   "metadata": {},
   "outputs": [],
   "source": [
    "def sqr(x):                    #[1,2,3,4,5] -- len=5\n",
    "    list_sqr=[]\n",
    "    for i in range(0,len(x)//2):\n",
    "        list_sqr.append(x[i]**2)\n",
    "    for i in list_sqr:\n",
    "        if i in x:\n",
    "            return True"
   ]
  },
  {
   "cell_type": "code",
   "execution_count": null,
   "id": "a3f9e9ca",
   "metadata": {},
   "outputs": [],
   "source": [
    "sqr([1,2,3,4,5])"
   ]
  },
  {
   "cell_type": "code",
   "execution_count": null,
   "id": "a7cf4d9d",
   "metadata": {},
   "outputs": [],
   "source": [
    "if_sqr=filter(sqr,range(1,11))\n",
    "list(if_sqr)"
   ]
  },
  {
   "cell_type": "markdown",
   "id": "b87e1da3",
   "metadata": {},
   "source": [
    "# try exception"
   ]
  },
  {
   "cell_type": "code",
   "execution_count": null,
   "id": "cb067644",
   "metadata": {},
   "outputs": [],
   "source": [
    "def fun(x,y):\n",
    "    return x/y"
   ]
  },
  {
   "cell_type": "code",
   "execution_count": null,
   "id": "5b59df5f",
   "metadata": {},
   "outputs": [],
   "source": [
    "fun(10,5)"
   ]
  },
  {
   "cell_type": "code",
   "execution_count": null,
   "id": "d5597580",
   "metadata": {},
   "outputs": [],
   "source": [
    "fun(20,0)"
   ]
  },
  {
   "cell_type": "code",
   "execution_count": null,
   "id": "eedcc385",
   "metadata": {},
   "outputs": [],
   "source": [
    "v1=10\n",
    "v2=20\n",
    "v3=20/0\n",
    "v4=12"
   ]
  },
  {
   "cell_type": "code",
   "execution_count": null,
   "id": "7fc14f7b",
   "metadata": {},
   "outputs": [],
   "source": [
    "v1,v2"
   ]
  },
  {
   "cell_type": "code",
   "execution_count": null,
   "id": "e9154251",
   "metadata": {},
   "outputs": [],
   "source": [
    "v3"
   ]
  },
  {
   "cell_type": "code",
   "execution_count": null,
   "id": "cef26dca",
   "metadata": {},
   "outputs": [],
   "source": [
    "v4   #further lines execution is stopped in python\n",
    "     #This is solved using try and exception"
   ]
  },
  {
   "cell_type": "code",
   "execution_count": null,
   "id": "49726a85",
   "metadata": {},
   "outputs": [],
   "source": [
    "v1=10\n",
    "v2=20\n",
    "try:\n",
    "    v3=20/0\n",
    "except:\n",
    "    v3=10   #This will work when try is error\n",
    "v4=12"
   ]
  },
  {
   "cell_type": "code",
   "execution_count": null,
   "id": "243c893a",
   "metadata": {},
   "outputs": [],
   "source": [
    "v3"
   ]
  },
  {
   "cell_type": "code",
   "execution_count": null,
   "id": "ef0ed684",
   "metadata": {},
   "outputs": [],
   "source": [
    "v4"
   ]
  },
  {
   "cell_type": "code",
   "execution_count": null,
   "id": "71f05348",
   "metadata": {},
   "outputs": [],
   "source": [
    "v1=10\n",
    "v2=20\n",
    "try:\n",
    "    v3=20/8  #This will work when try is error\n",
    "except:\n",
    "    v3=10   \n",
    "v4=12"
   ]
  },
  {
   "cell_type": "code",
   "execution_count": null,
   "id": "09a4957e",
   "metadata": {},
   "outputs": [],
   "source": [
    "v3"
   ]
  },
  {
   "cell_type": "code",
   "execution_count": null,
   "id": "15cb98d2",
   "metadata": {},
   "outputs": [],
   "source": [
    "def fun(x,y):\n",
    "    try:\n",
    "        return x/y\n",
    "    except:\n",
    "        return \"Zero error. Please give non-zero inputs\""
   ]
  },
  {
   "cell_type": "code",
   "execution_count": null,
   "id": "b5076be5",
   "metadata": {},
   "outputs": [],
   "source": [
    "fun(10,0)"
   ]
  },
  {
   "cell_type": "markdown",
   "id": "d56c1539",
   "metadata": {},
   "source": [
    "# Local and global variable"
   ]
  },
  {
   "cell_type": "code",
   "execution_count": null,
   "id": "85478b03",
   "metadata": {},
   "outputs": [],
   "source": [
    "x=20  #local variable\n",
    "\n",
    "def fun(x):\n",
    "    y=12\n",
    "    return y"
   ]
  },
  {
   "cell_type": "code",
   "execution_count": null,
   "id": "b52378ff",
   "metadata": {},
   "outputs": [],
   "source": [
    "y   #It says y is not defined as its a local variable"
   ]
  },
  {
   "cell_type": "code",
   "execution_count": null,
   "id": "7cdc2fb5",
   "metadata": {},
   "outputs": [],
   "source": [
    "fun(10)"
   ]
  },
  {
   "cell_type": "code",
   "execution_count": null,
   "id": "6626c01f",
   "metadata": {},
   "outputs": [],
   "source": [
    "x   #Its global variable"
   ]
  },
  {
   "cell_type": "code",
   "execution_count": null,
   "id": "8d56312b",
   "metadata": {},
   "outputs": [],
   "source": [
    "var1=10\n",
    "def fun(x):\n",
    "    var1=20\n",
    "    x=x+var1\n",
    "    return x,var1"
   ]
  },
  {
   "cell_type": "code",
   "execution_count": null,
   "id": "b6af730e",
   "metadata": {},
   "outputs": [],
   "source": [
    "fun(10)"
   ]
  },
  {
   "cell_type": "code",
   "execution_count": null,
   "id": "b9dbcccf",
   "metadata": {},
   "outputs": [],
   "source": [
    "var1  #var1=20 is local so global value will be taken by var1\n",
    "      #var1 called inside fun() will give me 20 as its local variable available inside fun()"
   ]
  },
  {
   "cell_type": "code",
   "execution_count": null,
   "id": "710f0883",
   "metadata": {},
   "outputs": [],
   "source": [
    "# To make local var global"
   ]
  },
  {
   "cell_type": "code",
   "execution_count": null,
   "id": "1b9100a6",
   "metadata": {},
   "outputs": [],
   "source": [
    "var1=10\n",
    "def fun(x):\n",
    "#     var1=20      -- SyntaxError: name 'var1' is assigned to before global declaration\n",
    "    \n",
    "    global var1\n",
    "    var1=20\n",
    "    x=x+var1\n",
    "    \n",
    "    return x"
   ]
  },
  {
   "cell_type": "code",
   "execution_count": null,
   "id": "f7c052c1",
   "metadata": {},
   "outputs": [],
   "source": [
    "fun(10)"
   ]
  },
  {
   "cell_type": "code",
   "execution_count": null,
   "id": "21948b86",
   "metadata": {},
   "outputs": [],
   "source": [
    "var1"
   ]
  },
  {
   "cell_type": "code",
   "execution_count": null,
   "id": "6cb2db10",
   "metadata": {},
   "outputs": [],
   "source": [
    "var1=10\n",
    "def fun(x):\n",
    "#     var1=20      -- SyntaxError: name 'var1' is assigned to before global declaration\n",
    "    \n",
    "    global var1\n",
    "    var1=30\n",
    "    del var1\n",
    "    \n",
    "    var1=20\n",
    "    x=x+var1\n",
    "    \n",
    "    return x"
   ]
  },
  {
   "cell_type": "code",
   "execution_count": null,
   "id": "688f4686",
   "metadata": {},
   "outputs": [],
   "source": [
    "fun(20)"
   ]
  },
  {
   "cell_type": "code",
   "execution_count": null,
   "id": "df113ac9",
   "metadata": {},
   "outputs": [],
   "source": [
    "var1  #dlt deletes var1=30 and 20 remains"
   ]
  },
  {
   "cell_type": "markdown",
   "id": "0796b52b",
   "metadata": {},
   "source": [
    "# Recursion functions"
   ]
  },
  {
   "cell_type": "code",
   "execution_count": null,
   "id": "c141d913",
   "metadata": {},
   "outputs": [],
   "source": [
    "def fun(x):\n",
    "    \n",
    "    if x==0:\n",
    "        return 10\n",
    "    else:\n",
    "        return fun(x-1)"
   ]
  },
  {
   "cell_type": "code",
   "execution_count": null,
   "id": "82726c7d",
   "metadata": {},
   "outputs": [],
   "source": [
    "func(2) #fun(2)-->fun(1)-->fun(0)"
   ]
  },
  {
   "cell_type": "code",
   "execution_count": null,
   "id": "65c7f4f8",
   "metadata": {},
   "outputs": [],
   "source": [
    "def fun(x):\n",
    "    \n",
    "    if x==0:\n",
    "        return 10\n",
    "    else:\n",
    "        return fun(x-1)*2"
   ]
  },
  {
   "cell_type": "code",
   "execution_count": null,
   "id": "138e468e",
   "metadata": {},
   "outputs": [],
   "source": [
    "fun(2)\n",
    "#fun(2)-->fun(1)*2-->(fun(0)*2)*2 == 10x4 = 40"
   ]
  },
  {
   "cell_type": "code",
   "execution_count": null,
   "id": "2f7f80fe",
   "metadata": {},
   "outputs": [],
   "source": [
    "fun(3) # 10x2x2x2=80"
   ]
  },
  {
   "cell_type": "code",
   "execution_count": null,
   "id": "64e83eda",
   "metadata": {},
   "outputs": [],
   "source": [
    "fun(4)"
   ]
  },
  {
   "cell_type": "raw",
   "id": "8f580833",
   "metadata": {},
   "source": [
    "fun(4)-->fun(3)*4-->fun(2)*3*4-->fun(1)*2*3*4"
   ]
  },
  {
   "cell_type": "code",
   "execution_count": null,
   "id": "ec22c7f4",
   "metadata": {},
   "outputs": [],
   "source": [
    "def fact(x):\n",
    "    if x==1:\n",
    "        return 1\n",
    "    else:\n",
    "        return fact(x-1)*x"
   ]
  },
  {
   "cell_type": "code",
   "execution_count": null,
   "id": "2fb24f0e",
   "metadata": {},
   "outputs": [],
   "source": [
    "fact(5)"
   ]
  },
  {
   "cell_type": "raw",
   "id": "09932e04",
   "metadata": {},
   "source": [
    "Fibonacci series"
   ]
  },
  {
   "cell_type": "code",
   "execution_count": null,
   "id": "e94b9f99",
   "metadata": {},
   "outputs": [],
   "source": [
    "1,1,2,3,5,8,13,......"
   ]
  },
  {
   "cell_type": "code",
   "execution_count": 38,
   "id": "ea8bc85b",
   "metadata": {},
   "outputs": [],
   "source": [
    "\n",
    "def fib(num):\n",
    "    f=0\n",
    "    s=1\n",
    "    print(s)\n",
    "    for i in range(1,num):\n",
    "        t=f+s\n",
    "        f=s\n",
    "        s=t\n",
    "        print(t)"
   ]
  },
  {
   "cell_type": "code",
   "execution_count": 39,
   "id": "9fb8a987",
   "metadata": {},
   "outputs": [
    {
     "name": "stdout",
     "output_type": "stream",
     "text": [
      "1\n",
      "1\n",
      "2\n",
      "3\n",
      "5\n"
     ]
    }
   ],
   "source": [
    "fib(5)"
   ]
  },
  {
   "cell_type": "code",
   "execution_count": 32,
   "id": "e9338a08",
   "metadata": {},
   "outputs": [],
   "source": [
    "def fibonacci(x):\n",
    "    if x==1 or x==2:\n",
    "        return 1\n",
    "    else:\n",
    "        return fibonacci(x-1)+fibonacci(x-2)"
   ]
  },
  {
   "cell_type": "code",
   "execution_count": 33,
   "id": "c52b8a01",
   "metadata": {},
   "outputs": [
    {
     "data": {
      "text/plain": [
       "5"
      ]
     },
     "execution_count": 33,
     "metadata": {},
     "output_type": "execute_result"
    }
   ],
   "source": [
    "fibonacci(5)"
   ]
  },
  {
   "cell_type": "code",
   "execution_count": 37,
   "id": "9510d750",
   "metadata": {},
   "outputs": [
    {
     "data": {
      "text/plain": [
       "[1, 1, 2, 3, 5, 8, 13, 21, 34, 55]"
      ]
     },
     "execution_count": 37,
     "metadata": {},
     "output_type": "execute_result"
    }
   ],
   "source": [
    "series=map(fibonacci,range(1,11))\n",
    "list(series)"
   ]
  },
  {
   "cell_type": "markdown",
   "id": "d62cec65",
   "metadata": {},
   "source": [
    "# Lambda function"
   ]
  },
  {
   "cell_type": "code",
   "execution_count": null,
   "id": "237b5c06",
   "metadata": {},
   "outputs": [],
   "source": [
    "list comp replaces for loop\n",
    "lambda replaces def func"
   ]
  },
  {
   "cell_type": "code",
   "execution_count": 40,
   "id": "32c659c7",
   "metadata": {},
   "outputs": [],
   "source": [
    "def mul(x,y):\n",
    "    return x*y"
   ]
  },
  {
   "cell_type": "code",
   "execution_count": 41,
   "id": "5421d8b1",
   "metadata": {},
   "outputs": [
    {
     "data": {
      "text/plain": [
       "6"
      ]
     },
     "execution_count": 41,
     "metadata": {},
     "output_type": "execute_result"
    }
   ],
   "source": [
    "mul(2,3)"
   ]
  },
  {
   "cell_type": "code",
   "execution_count": 43,
   "id": "def9c44f",
   "metadata": {},
   "outputs": [],
   "source": [
    "multiply=lambda x,y:x*y"
   ]
  },
  {
   "cell_type": "code",
   "execution_count": 44,
   "id": "a6277577",
   "metadata": {},
   "outputs": [
    {
     "data": {
      "text/plain": [
       "6"
      ]
     },
     "execution_count": 44,
     "metadata": {},
     "output_type": "execute_result"
    }
   ],
   "source": [
    "multiply(2,3)"
   ]
  },
  {
   "cell_type": "code",
   "execution_count": 45,
   "id": "4c54abce",
   "metadata": {},
   "outputs": [],
   "source": [
    "even_odd=lambda x:\"even\" if x%2==0 else \"odd\""
   ]
  },
  {
   "cell_type": "code",
   "execution_count": 46,
   "id": "9ac5e554",
   "metadata": {},
   "outputs": [
    {
     "data": {
      "text/plain": [
       "'odd'"
      ]
     },
     "execution_count": 46,
     "metadata": {},
     "output_type": "execute_result"
    }
   ],
   "source": [
    "even_odd(5)"
   ]
  },
  {
   "cell_type": "code",
   "execution_count": 54,
   "id": "7fe6c7e2",
   "metadata": {},
   "outputs": [],
   "source": [
    "factors=lambda x:[i for i in range(1,x+1) if x%i==0]"
   ]
  },
  {
   "cell_type": "code",
   "execution_count": 55,
   "id": "798f6de1",
   "metadata": {},
   "outputs": [
    {
     "data": {
      "text/plain": [
       "[1, 2, 3, 6]"
      ]
     },
     "execution_count": 55,
     "metadata": {},
     "output_type": "execute_result"
    }
   ],
   "source": [
    "factors(6)"
   ]
  },
  {
   "cell_type": "code",
   "execution_count": 57,
   "id": "7aaf3b14",
   "metadata": {},
   "outputs": [
    {
     "name": "stdout",
     "output_type": "stream",
     "text": [
      "CPU times: total: 0 ns\n",
      "Wall time: 0 ns\n"
     ]
    },
    {
     "data": {
      "text/plain": [
       "[1, 2, 3, 4, 6, 8, 12, 24]"
      ]
     },
     "execution_count": 57,
     "metadata": {},
     "output_type": "execute_result"
    }
   ],
   "source": [
    "%%time\n",
    "factors(24)"
   ]
  },
  {
   "cell_type": "markdown",
   "id": "58bd3222",
   "metadata": {},
   "source": [
    "#### Using lambda\n",
    "* GCD\n",
    "* prime\n",
    "* fibonacci"
   ]
  },
  {
   "cell_type": "code",
   "execution_count": 58,
   "id": "e5291267",
   "metadata": {},
   "outputs": [
    {
     "data": {
      "text/plain": [
       "([1, 2, 5, 10], [1, 2, 4, 5, 10, 20])"
      ]
     },
     "execution_count": 58,
     "metadata": {},
     "output_type": "execute_result"
    }
   ],
   "source": [
    "a=10\n",
    "b=20\n",
    "factors(10),factors(20)"
   ]
  },
  {
   "cell_type": "code",
   "execution_count": 74,
   "id": "9116c11b",
   "metadata": {},
   "outputs": [
    {
     "name": "stdout",
     "output_type": "stream",
     "text": [
      "GCD is 100\n"
     ]
    }
   ],
   "source": [
    "# factor=lambda x:[i for i in range(1,x+1) if x%i==0]\n",
    "# gcd=map(factor,[10,20])\n",
    "# list(gcd)\n",
    "\n",
    "a=100\n",
    "b=500\n",
    "\n",
    "gcd=map(lambda x:[i for i in range(1,x+1) if x%i==0],[a,b])\n",
    "list_1=list(gcd)\n",
    "list_2=[]\n",
    "for i in list_1:\n",
    "    list_2.append(max(i))\n",
    "print(f'GCD is {min(list_2)}')"
   ]
  },
  {
   "cell_type": "code",
   "execution_count": 83,
   "id": "c08d80b1",
   "metadata": {},
   "outputs": [],
   "source": [
    "def get_gcd(a,b):\n",
    "    gcd=map(lambda x:[i for i in range(1,x+1) if x%i==0],[a,b])\n",
    "    list_1=list(gcd)\n",
    "    list_2=[]\n",
    "    for i in list_1:\n",
    "        list_2.append(max(i))\n",
    "    print(f'GCD of {a} and {b} : {min(list_2)}')"
   ]
  },
  {
   "cell_type": "code",
   "execution_count": 84,
   "id": "eb2342aa",
   "metadata": {},
   "outputs": [
    {
     "name": "stdout",
     "output_type": "stream",
     "text": [
      "GCD of 100 and 500 : 100\n"
     ]
    }
   ],
   "source": [
    "get_gcd(100,500)"
   ]
  },
  {
   "cell_type": "code",
   "execution_count": null,
   "id": "25975947",
   "metadata": {},
   "outputs": [],
   "source": []
  }
 ],
 "metadata": {
  "kernelspec": {
   "display_name": "Python 3 (ipykernel)",
   "language": "python",
   "name": "python3"
  },
  "language_info": {
   "codemirror_mode": {
    "name": "ipython",
    "version": 3
   },
   "file_extension": ".py",
   "mimetype": "text/x-python",
   "name": "python",
   "nbconvert_exporter": "python",
   "pygments_lexer": "ipython3",
   "version": "3.9.12"
  }
 },
 "nbformat": 4,
 "nbformat_minor": 5
}
